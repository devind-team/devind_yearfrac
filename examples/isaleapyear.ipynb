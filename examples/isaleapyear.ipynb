{
 "cells": [
  {
   "cell_type": "code",
   "execution_count": 1,
   "metadata": {},
   "outputs": [],
   "source": [
    "import sys\n",
    "sys.path.append('..')\n",
    "import devind_yearfrac as yf"
   ]
  },
  {
   "cell_type": "code",
   "execution_count": 2,
   "metadata": {},
   "outputs": [
    {
     "name": "stdout",
     "output_type": "stream",
     "text": [
      "2016 is a leap year\n"
     ]
    }
   ],
   "source": [
    "y = 2016\n",
    "\n",
    "if yf.isaleapyear(y):\n",
    "    print(\"{:d} is a leap year\".format(y))\n",
    "else:\n",
    "    print(\"{:d} is not a leap year\".format(y))"
   ]
  },
  {
   "cell_type": "code",
   "execution_count": 3,
   "metadata": {},
   "outputs": [
    {
     "name": "stdout",
     "output_type": "stream",
     "text": [
      "1890 is not a leap year\n",
      "1891 is not a leap year\n",
      "1892 is a leap year\n",
      "1893 is not a leap year\n",
      "1894 is not a leap year\n",
      "1895 is not a leap year\n",
      "1896 is a leap year\n",
      "1897 is not a leap year\n",
      "1898 is not a leap year\n",
      "1899 is not a leap year\n",
      "1900 is not a leap year\n",
      "1901 is not a leap year\n",
      "1902 is not a leap year\n",
      "1903 is not a leap year\n",
      "1904 is a leap year\n",
      "1905 is not a leap year\n",
      "1906 is not a leap year\n",
      "1907 is not a leap year\n",
      "1908 is a leap year\n",
      "1909 is not a leap year\n",
      "1910 is not a leap year\n"
     ]
    }
   ],
   "source": [
    "for y in range(1890, 1910+1):\n",
    "    if yf.isaleapyear(y):\n",
    "        print(\"{:d} is a leap year\".format(y))\n",
    "    else:\n",
    "        print(\"{:d} is not a leap year\".format(y))\n"
   ]
  }
 ],
 "metadata": {
  "kernelspec": {
   "display_name": "Python 3",
   "language": "python",
   "name": "python3"
  },
  "language_info": {
   "codemirror_mode": {
    "name": "ipython",
    "version": 3
   },
   "file_extension": ".py",
   "mimetype": "text/x-python",
   "name": "python",
   "nbconvert_exporter": "python",
   "pygments_lexer": "ipython3",
   "version": "3.6.2"
  }
 },
 "nbformat": 4,
 "nbformat_minor": 2
}
